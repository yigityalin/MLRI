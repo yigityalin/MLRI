{
 "cells": [
  {
   "cell_type": "code",
   "execution_count": 1,
   "id": "3f8ab513-54b7-4041-b8cd-3f2f2770f376",
   "metadata": {},
   "outputs": [],
   "source": [
    "from pathlib import Path\n",
    "import sys\n",
    "\n",
    "root_dir = Path().resolve().parent.parent.parent.as_posix()\n",
    "if root_dir not in sys.path:\n",
    "    sys.path.append(root_dir)\n",
    "del root_dir\n",
    "\n",
    "from tensorflow import keras\n",
    "from tensorflow.keras import layers\n",
    "from tensorflow.keras.applications import nasnet\n",
    "import tensorflow as tf\n",
    "\n",
    "from utils import config, datasets, models"
   ]
  },
  {
   "cell_type": "code",
   "execution_count": 2,
   "id": "4986b325-6e7e-4e4d-9715-8c114549c61c",
   "metadata": {},
   "outputs": [],
   "source": [
    "MODEL_NAME = 'nasnet-Mobile'\n",
    "EPOCHS = 50"
   ]
  },
  {
   "cell_type": "code",
   "execution_count": 3,
   "id": "e9e6a074-bd34-4003-a175-335e2663c490",
   "metadata": {},
   "outputs": [
    {
     "name": "stdout",
     "output_type": "stream",
     "text": [
      "Found 6400 files belonging to 4 classes.\n"
     ]
    }
   ],
   "source": [
    "train_dataset, validation_dataset, test_dataset = datasets.load_dataset()"
   ]
  },
  {
   "cell_type": "code",
   "execution_count": 4,
   "id": "728a713a-6e65-49d3-ac81-5a9da28ae955",
   "metadata": {},
   "outputs": [],
   "source": [
    "data_augmentation = keras.Sequential([\n",
    "    layers.Resizing(331, 331),\n",
    "    layers.Rescaling(1. / 255),\n",
    "])"
   ]
  },
  {
   "cell_type": "code",
   "execution_count": 5,
   "id": "a61e3077-81ca-4309-a2c1-5b48ad6f31e3",
   "metadata": {},
   "outputs": [],
   "source": [
    "top = keras.Sequential([\n",
    "    layers.Dense(256, activation=keras.layers.LeakyReLU(alpha=0.05),\n",
    "                 kernel_initializer='he_normal'),\n",
    "    layers.Dense(4, kernel_initializer='he_normal',\n",
    "                 activation=keras.activations.softmax)\n",
    "])"
   ]
  },
  {
   "cell_type": "code",
   "execution_count": 6,
   "id": "6af13550-b178-4540-8851-9207dc4beb06",
   "metadata": {},
   "outputs": [],
   "source": [
    "model = models.create_model(\n",
    "    model_name=MODEL_NAME,\n",
    "    preprocessing_layers=data_augmentation,\n",
    "    base_model=nasnet.NASNetLarge,\n",
    "    top_layers=top,\n",
    ")"
   ]
  },
  {
   "cell_type": "code",
   "execution_count": 7,
   "id": "b1d4e3e5-8b87-4628-b3eb-f503a0c22c43",
   "metadata": {},
   "outputs": [
    {
     "name": "stdout",
     "output_type": "stream",
     "text": [
      "Epoch 1/50\n",
      "160/160 [==============================] - 941s 6s/step - loss: 1.3348 - sparse_categorical_accuracy: 0.5223 - val_loss: 0.9306 - val_sparse_categorical_accuracy: 0.5156\n",
      "Epoch 2/50\n",
      "160/160 [==============================] - 924s 6s/step - loss: 0.9349 - sparse_categorical_accuracy: 0.5635 - val_loss: 0.8294 - val_sparse_categorical_accuracy: 0.5984\n",
      "Epoch 3/50\n",
      "160/160 [==============================] - 947s 6s/step - loss: 0.9286 - sparse_categorical_accuracy: 0.5688 - val_loss: 0.8593 - val_sparse_categorical_accuracy: 0.5453\n",
      "Epoch 4/50\n",
      "160/160 [==============================] - 930s 6s/step - loss: 0.8703 - sparse_categorical_accuracy: 0.5926 - val_loss: 0.8169 - val_sparse_categorical_accuracy: 0.6000\n",
      "Epoch 5/50\n",
      "160/160 [==============================] - 941s 6s/step - loss: 0.8579 - sparse_categorical_accuracy: 0.6037 - val_loss: 0.7687 - val_sparse_categorical_accuracy: 0.6344\n",
      "Epoch 6/50\n",
      "160/160 [==============================] - 929s 6s/step - loss: 0.8558 - sparse_categorical_accuracy: 0.6111 - val_loss: 0.8851 - val_sparse_categorical_accuracy: 0.5406\n",
      "Epoch 7/50\n",
      "160/160 [==============================] - 915s 6s/step - loss: 0.8003 - sparse_categorical_accuracy: 0.6301 - val_loss: 0.7541 - val_sparse_categorical_accuracy: 0.6547\n",
      "Epoch 8/50\n",
      "160/160 [==============================] - 916s 6s/step - loss: 0.7645 - sparse_categorical_accuracy: 0.6539 - val_loss: 0.7451 - val_sparse_categorical_accuracy: 0.6375\n",
      "Epoch 9/50\n",
      "160/160 [==============================] - 913s 6s/step - loss: 0.9219 - sparse_categorical_accuracy: 0.6375 - val_loss: 0.7265 - val_sparse_categorical_accuracy: 0.6531\n",
      "Epoch 10/50\n",
      "160/160 [==============================] - 915s 6s/step - loss: 0.7500 - sparse_categorical_accuracy: 0.6584 - val_loss: 0.8626 - val_sparse_categorical_accuracy: 0.5859\n",
      "Epoch 11/50\n",
      "160/160 [==============================] - 914s 6s/step - loss: 0.6795 - sparse_categorical_accuracy: 0.6918 - val_loss: 1.2887 - val_sparse_categorical_accuracy: 0.4672\n",
      "Epoch 12/50\n",
      "160/160 [==============================] - 914s 6s/step - loss: 0.6766 - sparse_categorical_accuracy: 0.6939 - val_loss: 0.8333 - val_sparse_categorical_accuracy: 0.6500\n",
      "Epoch 13/50\n",
      "160/160 [==============================] - 915s 6s/step - loss: 0.6144 - sparse_categorical_accuracy: 0.7176 - val_loss: 0.7088 - val_sparse_categorical_accuracy: 0.6953\n",
      "Epoch 14/50\n",
      "160/160 [==============================] - 914s 6s/step - loss: 0.6136 - sparse_categorical_accuracy: 0.7254 - val_loss: 0.6893 - val_sparse_categorical_accuracy: 0.7094\n",
      "Epoch 15/50\n",
      "160/160 [==============================] - 913s 6s/step - loss: 0.5829 - sparse_categorical_accuracy: 0.7389 - val_loss: 0.6854 - val_sparse_categorical_accuracy: 0.6922\n",
      "Epoch 16/50\n",
      "160/160 [==============================] - 912s 6s/step - loss: 0.5511 - sparse_categorical_accuracy: 0.7525 - val_loss: 0.6600 - val_sparse_categorical_accuracy: 0.7203\n",
      "Epoch 17/50\n",
      "160/160 [==============================] - 912s 6s/step - loss: 0.5265 - sparse_categorical_accuracy: 0.7725 - val_loss: 0.6555 - val_sparse_categorical_accuracy: 0.7312\n",
      "Epoch 18/50\n",
      "160/160 [==============================] - 915s 6s/step - loss: 0.5054 - sparse_categorical_accuracy: 0.7803 - val_loss: 0.6325 - val_sparse_categorical_accuracy: 0.7047\n",
      "Epoch 19/50\n",
      "160/160 [==============================] - 912s 6s/step - loss: 0.4794 - sparse_categorical_accuracy: 0.7955 - val_loss: 0.6370 - val_sparse_categorical_accuracy: 0.7391\n",
      "Epoch 20/50\n",
      "160/160 [==============================] - 913s 6s/step - loss: 0.4515 - sparse_categorical_accuracy: 0.7998 - val_loss: 0.6717 - val_sparse_categorical_accuracy: 0.7391\n",
      "Epoch 21/50\n",
      "160/160 [==============================] - 915s 6s/step - loss: 0.4661 - sparse_categorical_accuracy: 0.7984 - val_loss: 0.7698 - val_sparse_categorical_accuracy: 0.7141\n",
      "Epoch 22/50\n",
      "160/160 [==============================] - 912s 6s/step - loss: 0.4295 - sparse_categorical_accuracy: 0.8260 - val_loss: 0.6236 - val_sparse_categorical_accuracy: 0.7453\n",
      "Epoch 23/50\n",
      "160/160 [==============================] - 912s 6s/step - loss: 0.4113 - sparse_categorical_accuracy: 0.8324 - val_loss: 0.6329 - val_sparse_categorical_accuracy: 0.7297\n",
      "Epoch 24/50\n",
      "160/160 [==============================] - 913s 6s/step - loss: 0.4085 - sparse_categorical_accuracy: 0.8273 - val_loss: 0.7910 - val_sparse_categorical_accuracy: 0.7125\n",
      "Epoch 25/50\n",
      "160/160 [==============================] - 913s 6s/step - loss: 0.4036 - sparse_categorical_accuracy: 0.8352 - val_loss: 0.9075 - val_sparse_categorical_accuracy: 0.7219\n",
      "Epoch 26/50\n",
      "160/160 [==============================] - 913s 6s/step - loss: 0.4128 - sparse_categorical_accuracy: 0.8434 - val_loss: 0.6065 - val_sparse_categorical_accuracy: 0.7766\n",
      "Epoch 27/50\n",
      "160/160 [==============================] - 913s 6s/step - loss: 0.3168 - sparse_categorical_accuracy: 0.8709 - val_loss: 0.6251 - val_sparse_categorical_accuracy: 0.7594\n",
      "Epoch 28/50\n",
      "160/160 [==============================] - 914s 6s/step - loss: 0.2929 - sparse_categorical_accuracy: 0.8807 - val_loss: 0.5771 - val_sparse_categorical_accuracy: 0.7984\n",
      "Epoch 29/50\n",
      "160/160 [==============================] - 914s 6s/step - loss: 0.2604 - sparse_categorical_accuracy: 0.8973 - val_loss: 0.7627 - val_sparse_categorical_accuracy: 0.7734\n",
      "Epoch 30/50\n",
      "160/160 [==============================] - 913s 6s/step - loss: 0.2525 - sparse_categorical_accuracy: 0.8990 - val_loss: 0.8521 - val_sparse_categorical_accuracy: 0.7563\n",
      "Epoch 31/50\n",
      "160/160 [==============================] - 913s 6s/step - loss: 0.2573 - sparse_categorical_accuracy: 0.8957 - val_loss: 0.6562 - val_sparse_categorical_accuracy: 0.7875\n",
      "Epoch 32/50\n",
      "160/160 [==============================] - 913s 6s/step - loss: 0.2537 - sparse_categorical_accuracy: 0.9004 - val_loss: 0.8238 - val_sparse_categorical_accuracy: 0.7500\n",
      "Epoch 33/50\n",
      "160/160 [==============================] - 913s 6s/step - loss: 0.2313 - sparse_categorical_accuracy: 0.9096 - val_loss: 0.6818 - val_sparse_categorical_accuracy: 0.7547\n",
      "Epoch 34/50\n",
      "160/160 [==============================] - 913s 6s/step - loss: 0.2328 - sparse_categorical_accuracy: 0.9047 - val_loss: 0.7729 - val_sparse_categorical_accuracy: 0.7547\n",
      "Epoch 35/50\n",
      "160/160 [==============================] - 913s 6s/step - loss: 0.1896 - sparse_categorical_accuracy: 0.9234 - val_loss: 0.6705 - val_sparse_categorical_accuracy: 0.7984\n",
      "Epoch 36/50\n",
      "160/160 [==============================] - 913s 6s/step - loss: 0.1573 - sparse_categorical_accuracy: 0.9383 - val_loss: 0.6227 - val_sparse_categorical_accuracy: 0.7875\n",
      "Epoch 37/50\n",
      "160/160 [==============================] - 913s 6s/step - loss: 0.1799 - sparse_categorical_accuracy: 0.9295 - val_loss: 0.8909 - val_sparse_categorical_accuracy: 0.7828\n",
      "Epoch 38/50\n",
      "160/160 [==============================] - 913s 6s/step - loss: 0.7640 - sparse_categorical_accuracy: 0.8180 - val_loss: 0.6227 - val_sparse_categorical_accuracy: 0.7766\n",
      "Epoch 39/50\n",
      "160/160 [==============================] - 913s 6s/step - loss: 0.1925 - sparse_categorical_accuracy: 0.9223 - val_loss: 0.6591 - val_sparse_categorical_accuracy: 0.8047\n",
      "Epoch 40/50\n",
      "160/160 [==============================] - 913s 6s/step - loss: 0.1763 - sparse_categorical_accuracy: 0.9320 - val_loss: 0.6233 - val_sparse_categorical_accuracy: 0.7906\n",
      "Epoch 41/50\n",
      "160/160 [==============================] - 913s 6s/step - loss: 0.1299 - sparse_categorical_accuracy: 0.9494 - val_loss: 0.6515 - val_sparse_categorical_accuracy: 0.7828\n",
      "Epoch 42/50\n",
      "160/160 [==============================] - 912s 6s/step - loss: 0.0964 - sparse_categorical_accuracy: 0.9615 - val_loss: 0.6749 - val_sparse_categorical_accuracy: 0.8156\n",
      "Epoch 43/50\n",
      "160/160 [==============================] - 913s 6s/step - loss: 0.1043 - sparse_categorical_accuracy: 0.9604 - val_loss: 0.6851 - val_sparse_categorical_accuracy: 0.7891\n",
      "Epoch 44/50\n",
      "160/160 [==============================] - 914s 6s/step - loss: 0.1163 - sparse_categorical_accuracy: 0.9563 - val_loss: 0.7183 - val_sparse_categorical_accuracy: 0.7828\n",
      "Epoch 45/50\n",
      "160/160 [==============================] - 914s 6s/step - loss: 0.1214 - sparse_categorical_accuracy: 0.9586 - val_loss: 0.6866 - val_sparse_categorical_accuracy: 0.8141\n",
      "Epoch 46/50\n",
      "160/160 [==============================] - 914s 6s/step - loss: 0.2850 - sparse_categorical_accuracy: 0.9225 - val_loss: 0.9447 - val_sparse_categorical_accuracy: 0.7281\n",
      "Epoch 47/50\n",
      "160/160 [==============================] - 914s 6s/step - loss: 0.3475 - sparse_categorical_accuracy: 0.8857 - val_loss: 0.7287 - val_sparse_categorical_accuracy: 0.8047\n",
      "Epoch 48/50\n",
      "160/160 [==============================] - 912s 6s/step - loss: 0.1227 - sparse_categorical_accuracy: 0.9514 - val_loss: 0.8268 - val_sparse_categorical_accuracy: 0.8016\n",
      "Epoch 49/50\n",
      "160/160 [==============================] - 914s 6s/step - loss: 0.0872 - sparse_categorical_accuracy: 0.9674 - val_loss: 0.6888 - val_sparse_categorical_accuracy: 0.7812\n",
      "Epoch 50/50\n",
      "160/160 [==============================] - 912s 6s/step - loss: 0.0830 - sparse_categorical_accuracy: 0.9686 - val_loss: 0.7239 - val_sparse_categorical_accuracy: 0.7969\n"
     ]
    }
   ],
   "source": [
    "history = models.fit_model(\n",
    "    model,\n",
    "    train_data=train_dataset,\n",
    "    validation_data=validation_dataset,\n",
    "    epochs=EPOCHS,\n",
    ")"
   ]
  },
  {
   "cell_type": "code",
   "execution_count": 8,
   "id": "f47bea46-1f14-4479-9cb4-f8c2b12fd84d",
   "metadata": {},
   "outputs": [
    {
     "name": "stdout",
     "output_type": "stream",
     "text": [
      "Model: \"nasnet-Mobile\"\n",
      "_________________________________________________________________\n",
      " Layer (type)                Output Shape              Param #   \n",
      "=================================================================\n",
      " sequential (Sequential)     (None, 331, 331, 3)       0         \n",
      "                                                                 \n",
      " NASNet (Functional)         (None, 4032)              84916818  \n",
      "                                                                 \n",
      " sequential_1 (Sequential)   (None, 4)                 1033476   \n",
      "                                                                 \n",
      "=================================================================\n",
      "Total params: 85,950,294\n",
      "Trainable params: 1,033,476\n",
      "Non-trainable params: 84,916,818\n",
      "_________________________________________________________________\n"
     ]
    }
   ],
   "source": [
    "model.summary()"
   ]
  },
  {
   "cell_type": "code",
   "execution_count": null,
   "id": "26f9c242-3f36-47c4-a881-87df453dc585",
   "metadata": {},
   "outputs": [],
   "source": []
  }
 ],
 "metadata": {
  "kernelspec": {
   "display_name": "Python 3 (ipykernel)",
   "language": "python",
   "name": "python3"
  },
  "language_info": {
   "codemirror_mode": {
    "name": "ipython",
    "version": 3
   },
   "file_extension": ".py",
   "mimetype": "text/x-python",
   "name": "python",
   "nbconvert_exporter": "python",
   "pygments_lexer": "ipython3",
   "version": "3.10.8"
  }
 },
 "nbformat": 4,
 "nbformat_minor": 5
}
