{
 "cells": [
  {
   "cell_type": "code",
   "execution_count": 1,
   "id": "290debd2-987e-4449-a05b-6f46980be0e3",
   "metadata": {},
   "outputs": [],
   "source": [
    "from pathlib import Path\n",
    "import sys\n",
    "\n",
    "root_dir = Path().resolve().parent.parent.parent.as_posix()\n",
    "if root_dir not in sys.path:\n",
    "    sys.path.append(root_dir)\n",
    "del root_dir\n",
    "\n",
    "from tensorflow import keras\n",
    "from tensorflow.keras import layers\n",
    "from tensorflow.keras.applications import resnet\n",
    "import tensorflow as tf\n",
    "\n",
    "from utils import config, datasets, models"
   ]
  },
  {
   "cell_type": "code",
   "execution_count": 2,
   "id": "c680eecb-a7c7-4ba9-a0f4-8c937de34313",
   "metadata": {},
   "outputs": [],
   "source": [
    "MODEL_NAME = 'resnet-101'\n",
    "EPOCHS = 10"
   ]
  },
  {
   "cell_type": "code",
   "execution_count": 3,
   "id": "32189751-378e-4d87-a9ba-6e65fdb8cea4",
   "metadata": {},
   "outputs": [
    {
     "name": "stdout",
     "output_type": "stream",
     "text": [
      "Found 6400 files belonging to 4 classes.\n"
     ]
    }
   ],
   "source": [
    "train_dataset, validation_dataset, test_dataset = datasets.load_dataset()"
   ]
  },
  {
   "cell_type": "code",
   "execution_count": 4,
   "id": "9fe4f82c-4f3a-40de-9f2f-72d780be5673",
   "metadata": {},
   "outputs": [],
   "source": [
    "data_augmentation = keras.Sequential([\n",
    "    layers.Resizing(224, 224),\n",
    "    layers.Rescaling(1. / 255),\n",
    "])"
   ]
  },
  {
   "cell_type": "code",
   "execution_count": 5,
   "id": "a9fff127-6266-4c9d-92a0-e0fa987dfc17",
   "metadata": {},
   "outputs": [],
   "source": [
    "top = keras.Sequential([\n",
    "    layers.Dense(256, activation=keras.layers.LeakyReLU(alpha=0.05),\n",
    "                 kernel_initializer='he_normal'),\n",
    "    layers.Dense(4, kernel_initializer='he_normal',\n",
    "                 activation=keras.activations.softmax)\n",
    "])"
   ]
  },
  {
   "cell_type": "code",
   "execution_count": 6,
   "id": "af964f16-6a73-4014-8452-f5e9b3597bca",
   "metadata": {},
   "outputs": [
    {
     "name": "stdout",
     "output_type": "stream",
     "text": [
      "Downloading data from https://storage.googleapis.com/tensorflow/keras-applications/resnet/resnet101_weights_tf_dim_ordering_tf_kernels_notop.h5\n",
      "171446536/171446536 [==============================] - 18s 0us/step\n"
     ]
    }
   ],
   "source": [
    "model = models.create_model(\n",
    "    model_name=MODEL_NAME,\n",
    "    preprocessing_layers=data_augmentation,\n",
    "    base_model=resnet.ResNet101,\n",
    "    top_layers=top,\n",
    ")"
   ]
  },
  {
   "cell_type": "code",
   "execution_count": 7,
   "id": "e5d805b5-0819-4e97-a5cb-a530c3ee8e7b",
   "metadata": {},
   "outputs": [
    {
     "name": "stdout",
     "output_type": "stream",
     "text": [
      "Epoch 1/10\n",
      "160/160 [==============================] - 231s 1s/step - loss: 1.1579 - sparse_categorical_accuracy: 0.4578 - val_loss: 1.0021 - val_sparse_categorical_accuracy: 0.5141\n",
      "Epoch 2/10\n",
      "160/160 [==============================] - 224s 1s/step - loss: 1.0546 - sparse_categorical_accuracy: 0.4824 - val_loss: 1.0077 - val_sparse_categorical_accuracy: 0.5172\n",
      "Epoch 3/10\n",
      "160/160 [==============================] - 223s 1s/step - loss: 1.0167 - sparse_categorical_accuracy: 0.4934 - val_loss: 0.9776 - val_sparse_categorical_accuracy: 0.5141\n",
      "Epoch 4/10\n",
      "160/160 [==============================] - 225s 1s/step - loss: 1.0258 - sparse_categorical_accuracy: 0.4986 - val_loss: 0.9788 - val_sparse_categorical_accuracy: 0.5250\n",
      "Epoch 5/10\n",
      "160/160 [==============================] - 224s 1s/step - loss: 1.0115 - sparse_categorical_accuracy: 0.5006 - val_loss: 0.9840 - val_sparse_categorical_accuracy: 0.5156\n",
      "Epoch 6/10\n",
      "160/160 [==============================] - 225s 1s/step - loss: 1.0125 - sparse_categorical_accuracy: 0.4990 - val_loss: 0.9785 - val_sparse_categorical_accuracy: 0.5109\n",
      "Epoch 7/10\n",
      "160/160 [==============================] - 224s 1s/step - loss: 1.0185 - sparse_categorical_accuracy: 0.4982 - val_loss: 0.9657 - val_sparse_categorical_accuracy: 0.5141\n",
      "Epoch 8/10\n",
      "160/160 [==============================] - 224s 1s/step - loss: 1.0055 - sparse_categorical_accuracy: 0.5107 - val_loss: 0.9821 - val_sparse_categorical_accuracy: 0.5109\n",
      "Epoch 9/10\n",
      "160/160 [==============================] - 224s 1s/step - loss: 1.0002 - sparse_categorical_accuracy: 0.5111 - val_loss: 0.9492 - val_sparse_categorical_accuracy: 0.5078\n",
      "Epoch 10/10\n",
      "160/160 [==============================] - 223s 1s/step - loss: 0.9940 - sparse_categorical_accuracy: 0.5092 - val_loss: 0.9585 - val_sparse_categorical_accuracy: 0.5344\n"
     ]
    }
   ],
   "source": [
    "history = models.fit_model(\n",
    "    model,\n",
    "    train_data=train_dataset,\n",
    "    validation_data=validation_dataset,\n",
    "    epochs=EPOCHS,\n",
    ")"
   ]
  },
  {
   "cell_type": "code",
   "execution_count": 8,
   "id": "4a90f2ad-07cd-4201-ab97-4f58d4dc5ab7",
   "metadata": {},
   "outputs": [
    {
     "name": "stdout",
     "output_type": "stream",
     "text": [
      "Model: \"resnet-101\"\n",
      "_________________________________________________________________\n",
      " Layer (type)                Output Shape              Param #   \n",
      "=================================================================\n",
      " sequential (Sequential)     (None, 224, 224, 3)       0         \n",
      "                                                                 \n",
      " resnet101 (Functional)      (None, 2048)              42658176  \n",
      "                                                                 \n",
      " sequential_1 (Sequential)   (None, 4)                 525572    \n",
      "                                                                 \n",
      "=================================================================\n",
      "Total params: 43,183,748\n",
      "Trainable params: 525,572\n",
      "Non-trainable params: 42,658,176\n",
      "_________________________________________________________________\n"
     ]
    }
   ],
   "source": [
    "model.summary()"
   ]
  },
  {
   "cell_type": "code",
   "execution_count": null,
   "id": "ce7f6a8e-506e-40ee-a23e-535686250a42",
   "metadata": {},
   "outputs": [],
   "source": []
  }
 ],
 "metadata": {
  "kernelspec": {
   "display_name": "Python 3 (ipykernel)",
   "language": "python",
   "name": "python3"
  },
  "language_info": {
   "codemirror_mode": {
    "name": "ipython",
    "version": 3
   },
   "file_extension": ".py",
   "mimetype": "text/x-python",
   "name": "python",
   "nbconvert_exporter": "python",
   "pygments_lexer": "ipython3",
   "version": "3.10.8"
  }
 },
 "nbformat": 4,
 "nbformat_minor": 5
}
