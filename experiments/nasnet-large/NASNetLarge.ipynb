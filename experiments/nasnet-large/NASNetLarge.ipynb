{
 "cells": [
  {
   "cell_type": "code",
   "execution_count": 1,
   "id": "2e164a20-1460-449a-b636-4330a4dec9ad",
   "metadata": {},
   "outputs": [],
   "source": [
    "from pathlib import Path\n",
    "import sys\n",
    "\n",
    "root_dir = Path().resolve().parent.parent.parent.as_posix()\n",
    "if root_dir not in sys.path:\n",
    "    sys.path.append(root_dir)\n",
    "del root_dir\n",
    "\n",
    "from tensorflow import keras\n",
    "from tensorflow.keras import layers\n",
    "from tensorflow.keras.applications import nasnet\n",
    "import tensorflow as tf\n",
    "\n",
    "from utils import config, datasets, models"
   ]
  },
  {
   "cell_type": "code",
   "execution_count": 2,
   "id": "aa103ee3-552e-4d48-8b1c-724b139ddfd0",
   "metadata": {},
   "outputs": [],
   "source": [
    "MODEL_NAME = 'nasnet-Large'\n",
    "EPOCHS = 50"
   ]
  },
  {
   "cell_type": "code",
   "execution_count": 3,
   "id": "e1169c80-747c-4703-b73e-842ff6e316dc",
   "metadata": {},
   "outputs": [
    {
     "name": "stdout",
     "output_type": "stream",
     "text": [
      "Found 6400 files belonging to 4 classes.\n"
     ]
    }
   ],
   "source": [
    "train_dataset, validation_dataset, test_dataset = datasets.load_dataset()"
   ]
  },
  {
   "cell_type": "code",
   "execution_count": 4,
   "id": "0f797a50-997a-49ce-8dd8-6e259b3319d8",
   "metadata": {},
   "outputs": [],
   "source": [
    "data_augmentation = keras.Sequential([\n",
    "    layers.Resizing(331, 331),\n",
    "    # layers.Rescaling(1. / 255),\n",
    "])"
   ]
  },
  {
   "cell_type": "code",
   "execution_count": 5,
   "id": "e2844f7e-7934-4347-a904-f96620ce2cb0",
   "metadata": {},
   "outputs": [],
   "source": [
    "top = keras.Sequential([\n",
    "    layers.Dense(256, activation=keras.layers.LeakyReLU(alpha=0.05),\n",
    "                 kernel_initializer='he_normal'),\n",
    "    layers.Dense(4, kernel_initializer='he_normal',\n",
    "                 activation=keras.activations.softmax)\n",
    "])"
   ]
  },
  {
   "cell_type": "code",
   "execution_count": 6,
   "id": "aee4bcb2-d9ed-40bf-ba2c-5d7d6c6d3ce3",
   "metadata": {},
   "outputs": [],
   "source": [
    "model = models.create_model(\n",
    "    model_name=MODEL_NAME,\n",
    "    preprocessing_layers=data_augmentation,\n",
    "    base_model=nasnet.NASNetLarge,\n",
    "    top_layers=top,\n",
    ")"
   ]
  },
  {
   "cell_type": "code",
   "execution_count": 7,
   "id": "22070437-696b-4115-87c6-a7a0defbf293",
   "metadata": {},
   "outputs": [
    {
     "name": "stdout",
     "output_type": "stream",
     "text": [
      "Epoch 1/50\n",
      "160/160 [==============================] - 923s 6s/step - loss: 2.2869 - sparse_categorical_accuracy: 0.4750 - val_loss: 1.0189 - val_sparse_categorical_accuracy: 0.4547\n",
      "Epoch 2/50\n",
      "160/160 [==============================] - 906s 6s/step - loss: 1.0123 - sparse_categorical_accuracy: 0.5104 - val_loss: 0.9160 - val_sparse_categorical_accuracy: 0.5250\n",
      "Epoch 3/50\n",
      "160/160 [==============================] - 905s 6s/step - loss: 1.0144 - sparse_categorical_accuracy: 0.4975 - val_loss: 0.9122 - val_sparse_categorical_accuracy: 0.5344\n",
      "Epoch 4/50\n",
      "160/160 [==============================] - 907s 6s/step - loss: 1.0110 - sparse_categorical_accuracy: 0.5109 - val_loss: 0.9680 - val_sparse_categorical_accuracy: 0.4719\n",
      "Epoch 5/50\n",
      "160/160 [==============================] - 906s 6s/step - loss: 0.9733 - sparse_categorical_accuracy: 0.5234 - val_loss: 0.9003 - val_sparse_categorical_accuracy: 0.5312\n",
      "Epoch 6/50\n",
      "160/160 [==============================] - 905s 6s/step - loss: 1.1788 - sparse_categorical_accuracy: 0.4818 - val_loss: 0.9456 - val_sparse_categorical_accuracy: 0.4938\n",
      "Epoch 7/50\n",
      "160/160 [==============================] - 904s 6s/step - loss: 1.0000 - sparse_categorical_accuracy: 0.5158 - val_loss: 0.9120 - val_sparse_categorical_accuracy: 0.5406\n",
      "Epoch 8/50\n",
      "160/160 [==============================] - 906s 6s/step - loss: 1.0496 - sparse_categorical_accuracy: 0.5029 - val_loss: 1.0203 - val_sparse_categorical_accuracy: 0.4453\n",
      "Epoch 9/50\n",
      "160/160 [==============================] - 905s 6s/step - loss: 0.9893 - sparse_categorical_accuracy: 0.5188 - val_loss: 0.8926 - val_sparse_categorical_accuracy: 0.5422\n",
      "Epoch 10/50\n",
      "160/160 [==============================] - 907s 6s/step - loss: 0.9511 - sparse_categorical_accuracy: 0.5090 - val_loss: 0.8924 - val_sparse_categorical_accuracy: 0.5375\n",
      "Epoch 11/50\n",
      "160/160 [==============================] - 906s 6s/step - loss: 1.1698 - sparse_categorical_accuracy: 0.5023 - val_loss: 1.0269 - val_sparse_categorical_accuracy: 0.4594\n",
      "Epoch 12/50\n",
      "160/160 [==============================] - 904s 6s/step - loss: 1.0087 - sparse_categorical_accuracy: 0.5104 - val_loss: 0.9383 - val_sparse_categorical_accuracy: 0.5406\n",
      "Epoch 13/50\n",
      "160/160 [==============================] - 903s 6s/step - loss: 1.0956 - sparse_categorical_accuracy: 0.5049 - val_loss: 0.8725 - val_sparse_categorical_accuracy: 0.5266\n",
      "Epoch 14/50\n",
      "160/160 [==============================] - 904s 6s/step - loss: 0.9347 - sparse_categorical_accuracy: 0.5342 - val_loss: 0.9208 - val_sparse_categorical_accuracy: 0.5234\n",
      "Epoch 15/50\n",
      "160/160 [==============================] - 904s 6s/step - loss: 0.9724 - sparse_categorical_accuracy: 0.5244 - val_loss: 1.0531 - val_sparse_categorical_accuracy: 0.4812\n",
      "Epoch 16/50\n",
      "160/160 [==============================] - 906s 6s/step - loss: 1.0531 - sparse_categorical_accuracy: 0.5039 - val_loss: 0.8700 - val_sparse_categorical_accuracy: 0.5391\n",
      "Epoch 17/50\n",
      "160/160 [==============================] - 905s 6s/step - loss: 0.9644 - sparse_categorical_accuracy: 0.5322 - val_loss: 0.8573 - val_sparse_categorical_accuracy: 0.5500\n",
      "Epoch 18/50\n",
      "160/160 [==============================] - 903s 6s/step - loss: 1.2991 - sparse_categorical_accuracy: 0.4842 - val_loss: 1.1942 - val_sparse_categorical_accuracy: 0.4516\n",
      "Epoch 19/50\n",
      "160/160 [==============================] - 904s 6s/step - loss: 1.1340 - sparse_categorical_accuracy: 0.5078 - val_loss: 0.9576 - val_sparse_categorical_accuracy: 0.4859\n",
      "Epoch 20/50\n",
      "160/160 [==============================] - 906s 6s/step - loss: 0.9474 - sparse_categorical_accuracy: 0.5312 - val_loss: 0.8768 - val_sparse_categorical_accuracy: 0.5500\n",
      "Epoch 21/50\n",
      "160/160 [==============================] - 903s 6s/step - loss: 0.9361 - sparse_categorical_accuracy: 0.5320 - val_loss: 0.8994 - val_sparse_categorical_accuracy: 0.5109\n",
      "Epoch 22/50\n",
      "160/160 [==============================] - 904s 6s/step - loss: 0.9226 - sparse_categorical_accuracy: 0.5252 - val_loss: 0.8740 - val_sparse_categorical_accuracy: 0.5531\n",
      "Epoch 23/50\n",
      "160/160 [==============================] - 904s 6s/step - loss: 0.9188 - sparse_categorical_accuracy: 0.5410 - val_loss: 0.9146 - val_sparse_categorical_accuracy: 0.4844\n",
      "Epoch 24/50\n",
      "160/160 [==============================] - 905s 6s/step - loss: 0.9337 - sparse_categorical_accuracy: 0.5326 - val_loss: 0.8740 - val_sparse_categorical_accuracy: 0.5250\n",
      "Epoch 25/50\n",
      "160/160 [==============================] - 905s 6s/step - loss: 1.0068 - sparse_categorical_accuracy: 0.5252 - val_loss: 2.5029 - val_sparse_categorical_accuracy: 0.5266\n",
      "Epoch 26/50\n",
      "160/160 [==============================] - 905s 6s/step - loss: 1.0678 - sparse_categorical_accuracy: 0.5086 - val_loss: 0.8844 - val_sparse_categorical_accuracy: 0.5188\n",
      "Epoch 27/50\n",
      "160/160 [==============================] - 905s 6s/step - loss: 1.1797 - sparse_categorical_accuracy: 0.5119 - val_loss: 0.8692 - val_sparse_categorical_accuracy: 0.5109\n",
      "Epoch 28/50\n",
      "160/160 [==============================] - 909s 6s/step - loss: 0.9239 - sparse_categorical_accuracy: 0.5330 - val_loss: 0.8660 - val_sparse_categorical_accuracy: 0.5688\n",
      "Epoch 29/50\n",
      "160/160 [==============================] - 905s 6s/step - loss: 0.9567 - sparse_categorical_accuracy: 0.5369 - val_loss: 0.9030 - val_sparse_categorical_accuracy: 0.4969\n",
      "Epoch 30/50\n",
      "160/160 [==============================] - 904s 6s/step - loss: 0.9320 - sparse_categorical_accuracy: 0.5395 - val_loss: 1.0172 - val_sparse_categorical_accuracy: 0.5281\n",
      "Epoch 31/50\n",
      "160/160 [==============================] - 905s 6s/step - loss: 0.9823 - sparse_categorical_accuracy: 0.5324 - val_loss: 1.0088 - val_sparse_categorical_accuracy: 0.4516\n",
      "Epoch 32/50\n",
      "160/160 [==============================] - 906s 6s/step - loss: 0.9152 - sparse_categorical_accuracy: 0.5426 - val_loss: 1.2221 - val_sparse_categorical_accuracy: 0.5344\n",
      "Epoch 33/50\n",
      "160/160 [==============================] - 905s 6s/step - loss: 0.9911 - sparse_categorical_accuracy: 0.5301 - val_loss: 0.8516 - val_sparse_categorical_accuracy: 0.5297\n",
      "Epoch 34/50\n",
      "160/160 [==============================] - 905s 6s/step - loss: 0.9307 - sparse_categorical_accuracy: 0.5373 - val_loss: 0.8353 - val_sparse_categorical_accuracy: 0.5469\n",
      "Epoch 35/50\n",
      "160/160 [==============================] - 905s 6s/step - loss: 0.8995 - sparse_categorical_accuracy: 0.5535 - val_loss: 0.8316 - val_sparse_categorical_accuracy: 0.5656\n",
      "Epoch 36/50\n",
      "160/160 [==============================] - 906s 6s/step - loss: 1.0415 - sparse_categorical_accuracy: 0.5357 - val_loss: 1.0330 - val_sparse_categorical_accuracy: 0.5469\n",
      "Epoch 37/50\n",
      "160/160 [==============================] - 906s 6s/step - loss: 0.9325 - sparse_categorical_accuracy: 0.5365 - val_loss: 0.8397 - val_sparse_categorical_accuracy: 0.5578\n",
      "Epoch 38/50\n",
      "160/160 [==============================] - 906s 6s/step - loss: 0.9489 - sparse_categorical_accuracy: 0.5416 - val_loss: 0.9212 - val_sparse_categorical_accuracy: 0.5484\n",
      "Epoch 39/50\n",
      "160/160 [==============================] - 909s 6s/step - loss: 0.9228 - sparse_categorical_accuracy: 0.5414 - val_loss: 0.9248 - val_sparse_categorical_accuracy: 0.5031\n",
      "Epoch 40/50\n",
      "160/160 [==============================] - 910s 6s/step - loss: 0.9292 - sparse_categorical_accuracy: 0.5385 - val_loss: 0.8948 - val_sparse_categorical_accuracy: 0.5172\n",
      "Epoch 41/50\n",
      "160/160 [==============================] - 908s 6s/step - loss: 1.0595 - sparse_categorical_accuracy: 0.5320 - val_loss: 1.3059 - val_sparse_categorical_accuracy: 0.4141\n",
      "Epoch 42/50\n",
      "160/160 [==============================] - 904s 6s/step - loss: 0.9850 - sparse_categorical_accuracy: 0.5434 - val_loss: 0.8528 - val_sparse_categorical_accuracy: 0.5531\n",
      "Epoch 43/50\n",
      "160/160 [==============================] - 905s 6s/step - loss: 0.8931 - sparse_categorical_accuracy: 0.5588 - val_loss: 0.8198 - val_sparse_categorical_accuracy: 0.5891\n",
      "Epoch 44/50\n",
      "160/160 [==============================] - 905s 6s/step - loss: 0.9002 - sparse_categorical_accuracy: 0.5594 - val_loss: 0.8888 - val_sparse_categorical_accuracy: 0.5203\n",
      "Epoch 45/50\n",
      "160/160 [==============================] - 906s 6s/step - loss: 0.9495 - sparse_categorical_accuracy: 0.5363 - val_loss: 0.8556 - val_sparse_categorical_accuracy: 0.5594\n",
      "Epoch 46/50\n",
      "160/160 [==============================] - 909s 6s/step - loss: 0.9275 - sparse_categorical_accuracy: 0.5539 - val_loss: 0.9057 - val_sparse_categorical_accuracy: 0.5172\n",
      "Epoch 47/50\n",
      "160/160 [==============================] - 908s 6s/step - loss: 0.9008 - sparse_categorical_accuracy: 0.5559 - val_loss: 0.8945 - val_sparse_categorical_accuracy: 0.5594\n",
      "Epoch 48/50\n",
      "160/160 [==============================] - 910s 6s/step - loss: 0.8754 - sparse_categorical_accuracy: 0.5719 - val_loss: 0.9918 - val_sparse_categorical_accuracy: 0.4781\n",
      "Epoch 49/50\n",
      "160/160 [==============================] - 908s 6s/step - loss: 0.9064 - sparse_categorical_accuracy: 0.5521 - val_loss: 0.8649 - val_sparse_categorical_accuracy: 0.5469\n",
      "Epoch 50/50\n",
      "160/160 [==============================] - 908s 6s/step - loss: 0.9054 - sparse_categorical_accuracy: 0.5512 - val_loss: 0.9898 - val_sparse_categorical_accuracy: 0.5734\n"
     ]
    }
   ],
   "source": [
    "history = models.fit_model(\n",
    "    model,\n",
    "    train_data=train_dataset,\n",
    "    validation_data=validation_dataset,\n",
    "    epochs=EPOCHS,\n",
    ")"
   ]
  },
  {
   "cell_type": "code",
   "execution_count": 8,
   "id": "fd007ec5-1bb3-4829-b11c-10fec5697253",
   "metadata": {},
   "outputs": [
    {
     "name": "stdout",
     "output_type": "stream",
     "text": [
      "Model: \"nasnet-Large\"\n",
      "_________________________________________________________________\n",
      " Layer (type)                Output Shape              Param #   \n",
      "=================================================================\n",
      " sequential (Sequential)     (None, 331, 331, 3)       0         \n",
      "                                                                 \n",
      " NASNet (Functional)         (None, 4032)              84916818  \n",
      "                                                                 \n",
      " sequential_1 (Sequential)   (None, 4)                 1033476   \n",
      "                                                                 \n",
      "=================================================================\n",
      "Total params: 85,950,294\n",
      "Trainable params: 1,033,476\n",
      "Non-trainable params: 84,916,818\n",
      "_________________________________________________________________\n"
     ]
    }
   ],
   "source": [
    "model.summary()"
   ]
  },
  {
   "cell_type": "code",
   "execution_count": null,
   "id": "d29af84d-cad9-4d99-a52c-d4e3e88698bf",
   "metadata": {},
   "outputs": [],
   "source": []
  }
 ],
 "metadata": {
  "kernelspec": {
   "display_name": "Python 3 (ipykernel)",
   "language": "python",
   "name": "python3"
  },
  "language_info": {
   "codemirror_mode": {
    "name": "ipython",
    "version": 3
   },
   "file_extension": ".py",
   "mimetype": "text/x-python",
   "name": "python",
   "nbconvert_exporter": "python",
   "pygments_lexer": "ipython3",
   "version": "3.10.8"
  }
 },
 "nbformat": 4,
 "nbformat_minor": 5
}
