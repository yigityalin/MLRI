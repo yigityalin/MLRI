{
 "cells": [
  {
   "cell_type": "code",
   "execution_count": 1,
   "id": "ab6a6f26-1d39-4765-b8b6-9c2291b1d0a2",
   "metadata": {},
   "outputs": [],
   "source": [
    "from pathlib import Path\n",
    "import sys\n",
    "\n",
    "root_dir = Path().resolve().parent.parent.parent.as_posix()\n",
    "if root_dir not in sys.path:\n",
    "    sys.path.append(root_dir)\n",
    "del root_dir\n",
    "\n",
    "from tensorflow import keras\n",
    "from tensorflow.keras import layers\n",
    "from tensorflow.keras.applications import resnet_v2\n",
    "import tensorflow as tf\n",
    "\n",
    "from utils import config, datasets, models"
   ]
  },
  {
   "cell_type": "code",
   "execution_count": 2,
   "id": "2a437da5-f7bc-4314-a735-2da7319807af",
   "metadata": {},
   "outputs": [],
   "source": [
    "MODEL_NAME = 'resnet-101-v2'\n",
    "EPOCHS = 10"
   ]
  },
  {
   "cell_type": "code",
   "execution_count": 3,
   "id": "0c6f7214-344b-4a31-90ad-71641247759d",
   "metadata": {},
   "outputs": [
    {
     "name": "stdout",
     "output_type": "stream",
     "text": [
      "Found 6400 files belonging to 4 classes.\n"
     ]
    }
   ],
   "source": [
    "train_dataset, validation_dataset, test_dataset = datasets.load_dataset()"
   ]
  },
  {
   "cell_type": "code",
   "execution_count": 4,
   "id": "9212a961-ce1b-4f54-a6b6-c1fc587cce19",
   "metadata": {},
   "outputs": [],
   "source": [
    "data_augmentation = keras.Sequential([\n",
    "    layers.Resizing(224, 224),\n",
    "    layers.Rescaling(1. / 255),\n",
    "])"
   ]
  },
  {
   "cell_type": "code",
   "execution_count": 5,
   "id": "88c15586-eea8-4a54-80a4-e87b63c1d30a",
   "metadata": {},
   "outputs": [],
   "source": [
    "top = keras.Sequential([\n",
    "    layers.Dense(256, activation=keras.layers.LeakyReLU(alpha=0.05),\n",
    "                 kernel_initializer='he_normal'),\n",
    "    layers.Dense(4, kernel_initializer='he_normal',\n",
    "                 activation=keras.activations.softmax)\n",
    "])"
   ]
  },
  {
   "cell_type": "code",
   "execution_count": 6,
   "id": "ebfefa4c-0b76-47ea-85ba-8b9ae0ef82c4",
   "metadata": {},
   "outputs": [
    {
     "name": "stdout",
     "output_type": "stream",
     "text": [
      "Downloading data from https://storage.googleapis.com/tensorflow/keras-applications/resnet/resnet101v2_weights_tf_dim_ordering_tf_kernels_notop.h5\n",
      "171317808/171317808 [==============================] - 18s 0us/step\n"
     ]
    }
   ],
   "source": [
    "model = models.create_model(\n",
    "    model_name=MODEL_NAME,\n",
    "    preprocessing_layers=data_augmentation,\n",
    "    base_model=resnet_v2.ResNet101V2,\n",
    "    top_layers=top,\n",
    ")"
   ]
  },
  {
   "cell_type": "code",
   "execution_count": 7,
   "id": "1fd00cad-786a-4079-b6df-b9cabbe980b6",
   "metadata": {},
   "outputs": [
    {
     "name": "stdout",
     "output_type": "stream",
     "text": [
      "Epoch 1/10\n",
      "160/160 [==============================] - 167s 1s/step - loss: 1.2027 - sparse_categorical_accuracy: 0.5334 - val_loss: 1.4157 - val_sparse_categorical_accuracy: 0.3859\n",
      "Epoch 2/10\n",
      "160/160 [==============================] - 167s 1s/step - loss: 0.9285 - sparse_categorical_accuracy: 0.5719 - val_loss: 0.7950 - val_sparse_categorical_accuracy: 0.6344\n",
      "Epoch 3/10\n",
      "160/160 [==============================] - 165s 1s/step - loss: 0.8978 - sparse_categorical_accuracy: 0.5814 - val_loss: 0.7820 - val_sparse_categorical_accuracy: 0.6219\n",
      "Epoch 4/10\n",
      "160/160 [==============================] - 166s 1s/step - loss: 0.8680 - sparse_categorical_accuracy: 0.6049 - val_loss: 0.8234 - val_sparse_categorical_accuracy: 0.6047\n",
      "Epoch 5/10\n",
      "160/160 [==============================] - 169s 1s/step - loss: 0.7795 - sparse_categorical_accuracy: 0.6387 - val_loss: 0.7502 - val_sparse_categorical_accuracy: 0.6438\n",
      "Epoch 6/10\n",
      "160/160 [==============================] - 166s 1s/step - loss: 0.7385 - sparse_categorical_accuracy: 0.6656 - val_loss: 0.7432 - val_sparse_categorical_accuracy: 0.6625\n",
      "Epoch 7/10\n",
      "160/160 [==============================] - 166s 1s/step - loss: 0.6940 - sparse_categorical_accuracy: 0.6863 - val_loss: 0.7202 - val_sparse_categorical_accuracy: 0.6672\n",
      "Epoch 8/10\n",
      "160/160 [==============================] - 168s 1s/step - loss: 0.6661 - sparse_categorical_accuracy: 0.7014 - val_loss: 0.7790 - val_sparse_categorical_accuracy: 0.6406\n",
      "Epoch 9/10\n",
      "160/160 [==============================] - 166s 1s/step - loss: 0.6573 - sparse_categorical_accuracy: 0.7137 - val_loss: 0.7485 - val_sparse_categorical_accuracy: 0.6719\n",
      "Epoch 10/10\n",
      "160/160 [==============================] - 166s 1s/step - loss: 0.6382 - sparse_categorical_accuracy: 0.7182 - val_loss: 0.6927 - val_sparse_categorical_accuracy: 0.7078\n"
     ]
    }
   ],
   "source": [
    "history = models.fit_model(\n",
    "    model,\n",
    "    train_data=train_dataset,\n",
    "    validation_data=validation_dataset,\n",
    "    epochs=EPOCHS,\n",
    ")"
   ]
  },
  {
   "cell_type": "code",
   "execution_count": 8,
   "id": "133360c6-a7a8-4660-88b5-f6ad7977484d",
   "metadata": {},
   "outputs": [
    {
     "name": "stdout",
     "output_type": "stream",
     "text": [
      "Model: \"resnet-101-v2\"\n",
      "_________________________________________________________________\n",
      " Layer (type)                Output Shape              Param #   \n",
      "=================================================================\n",
      " sequential (Sequential)     (None, 224, 224, 3)       0         \n",
      "                                                                 \n",
      " resnet101v2 (Functional)    (None, 2048)              42626560  \n",
      "                                                                 \n",
      " sequential_1 (Sequential)   (None, 4)                 525572    \n",
      "                                                                 \n",
      "=================================================================\n",
      "Total params: 43,152,132\n",
      "Trainable params: 525,572\n",
      "Non-trainable params: 42,626,560\n",
      "_________________________________________________________________\n"
     ]
    }
   ],
   "source": [
    "model.summary()"
   ]
  },
  {
   "cell_type": "code",
   "execution_count": null,
   "id": "ff520495-ac49-4e9f-bceb-aa4e4065c902",
   "metadata": {},
   "outputs": [],
   "source": []
  }
 ],
 "metadata": {
  "kernelspec": {
   "display_name": "Python 3 (ipykernel)",
   "language": "python",
   "name": "python3"
  },
  "language_info": {
   "codemirror_mode": {
    "name": "ipython",
    "version": 3
   },
   "file_extension": ".py",
   "mimetype": "text/x-python",
   "name": "python",
   "nbconvert_exporter": "python",
   "pygments_lexer": "ipython3",
   "version": "3.10.8"
  }
 },
 "nbformat": 4,
 "nbformat_minor": 5
}
